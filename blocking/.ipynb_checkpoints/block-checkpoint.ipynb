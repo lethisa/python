{
 "cells": [
  {
   "cell_type": "code",
   "execution_count": 1,
   "metadata": {},
   "outputs": [
    {
     "name": "stdout",
     "output_type": "stream",
     "text": [
      "# Copyright (c) 1993-2009 Microsoft Corp.\n",
      "#\n",
      "# This is a sample HOSTS file used by Microsoft TCP/IP for Windows.\n",
      "#\n",
      "# This file contains the mappings of IP addresses to host names. Each\n",
      "# entry should be kept on an individual line. The IP address should\n",
      "# be placed in the first column followed by the corresponding host name.\n",
      "# The IP address and the host name should be separated by at least one\n",
      "# space.\n",
      "#\n",
      "# Additionally, comments (such as these) may be inserted on individual\n",
      "# lines or following the machine name denoted by a '#' symbol.\n",
      "#\n",
      "# For example:\n",
      "#\n",
      "#      102.54.94.97     rhino.acme.com          # source server\n",
      "#       38.25.63.10     x.acme.com              # x client host\n",
      "\n",
      "# localhost name resolution is handled within DNS itself.\n",
      "#\t127.0.0.1       localhost\n",
      "#\t::1             localhost\n"
     ]
    }
   ],
   "source": [
    "hostPath = \"hosts\"\n",
    "with open(hostPath,\"r+\") as file:\n",
    "    content = file.read()\n",
    "    print(content)"
   ]
  }
 ],
 "metadata": {
  "kernelspec": {
   "display_name": "Python 3",
   "language": "python",
   "name": "python3"
  },
  "language_info": {
   "codemirror_mode": {
    "name": "ipython",
    "version": 3
   },
   "file_extension": ".py",
   "mimetype": "text/x-python",
   "name": "python",
   "nbconvert_exporter": "python",
   "pygments_lexer": "ipython3",
   "version": "3.6.6rc1"
  }
 },
 "nbformat": 4,
 "nbformat_minor": 2
}
